{
 "cells": [
  {
   "attachments": {},
   "cell_type": "markdown",
   "metadata": {},
   "source": [
    "Задание 44\n",
    "\n",
    "В ячейке ниже представлен код генерирующий DataFrame, которая состоит всего из 1 столбца.\n",
    "\n",
    "Ваша задача перевести его в one hot вид. Сможете ли вы это сделать без get_dummies?\n",
    "\n",
    "import random\n",
    "lst = ['robot'] * 10\n",
    "lst += ['human'] * 10\n",
    "random.shuffle(lst)\n",
    "data = pd.DataFrame({'whoAmI'lst})\n",
    "data.head()"
   ]
  },
  {
   "cell_type": "code",
   "execution_count": 2,
   "metadata": {},
   "outputs": [
    {
     "name": "stdout",
     "output_type": "stream",
     "text": [
      "   whoAmI\n",
      "0   human\n",
      "1   robot\n",
      "2   human\n",
      "3   robot\n",
      "4   human\n",
      "5   human\n",
      "6   robot\n",
      "7   human\n",
      "8   robot\n",
      "9   human\n",
      "10  human\n",
      "11  robot\n",
      "12  robot\n",
      "13  human\n",
      "14  human\n",
      "15  human\n",
      "16  robot\n",
      "17  robot\n",
      "18  robot\n",
      "19  robot\n",
      "    human  robot\n",
      "0       1      0\n",
      "1       0      1\n",
      "2       1      0\n",
      "3       0      1\n",
      "4       1      0\n",
      "5       1      0\n",
      "6       0      1\n",
      "7       1      0\n",
      "8       0      1\n",
      "9       1      0\n",
      "10      1      0\n",
      "11      0      1\n",
      "12      0      1\n",
      "13      1      0\n",
      "14      1      0\n",
      "15      1      0\n",
      "16      0      1\n",
      "17      0      1\n",
      "18      0      1\n",
      "19      0      1\n"
     ]
    }
   ],
   "source": [
    "\n",
    "import pandas as pd \n",
    "import numpy as np \n",
    "import random\n",
    " \n",
    "lst = ['robot'] * 10\n",
    "lst += ['human'] * 10\n",
    "random.shuffle(lst)\n",
    "data = pd.DataFrame({'whoAmI': lst})\n",
    "print(data)\n",
    "\n",
    "data['tmp'] = 1\n",
    "data.set_index([data.index, 'whoAmI'], inplace=True)\n",
    "data = data.unstack(level=-1, fill_value = 0).astype(int)\n",
    "data.columns = data.columns.droplevel()\n",
    "data.columns.name = None\n",
    "print(data)"
   ]
  }
 ],
 "metadata": {
  "kernelspec": {
   "display_name": "Python 3",
   "language": "python",
   "name": "python3"
  },
  "language_info": {
   "codemirror_mode": {
    "name": "ipython",
    "version": 3
   },
   "file_extension": ".py",
   "mimetype": "text/x-python",
   "name": "python",
   "nbconvert_exporter": "python",
   "pygments_lexer": "ipython3",
   "version": "3.11.3"
  },
  "orig_nbformat": 4
 },
 "nbformat": 4,
 "nbformat_minor": 2
}
